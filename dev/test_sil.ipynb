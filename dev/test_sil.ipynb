{
  "cells": [
    {
      "cell_type": "code",
      "execution_count": null,
      "metadata": {
        "collapsed": false
      },
      "outputs": [],
      "source": [
        "%pylab inline\n",
        "style.use('http://johannesfeist.eu/misc/jf.mplstyle')\n",
        "np.set_printoptions(linewidth=210)"
      ]
    },
    {
      "cell_type": "code",
      "execution_count": null,
      "metadata": {
        "collapsed": false
      },
      "outputs": [],
      "source": [
        "from qutip import *"
      ]
    },
    {
      "cell_type": "code",
      "execution_count": null,
      "metadata": {
        "collapsed": false
      },
      "outputs": [],
      "source": [
        "from jftools.short_iterative_lanczos import lanczos_timeprop"
      ]
    },
    {
      "cell_type": "code",
      "execution_count": null,
      "metadata": {
        "collapsed": true
      },
      "outputs": [],
      "source": [
        "from scipy.sparse import lil_matrix\n",
        "N = 20000\n",
        "H = lil_matrix((N,N))\n",
        "H[range(N),range(N)] = -2.\n",
        "H[range(N-1),range(1,N)] = 1\n",
        "H[range(1,N),range(N-1)] = 1\n",
        "H = H.tocsr()"
      ]
    },
    {
      "cell_type": "code",
      "execution_count": null,
      "metadata": {
        "collapsed": false
      },
      "outputs": [],
      "source": [
        "class phi(np.ndarray):\n",
        "    def norm(self):\n",
        "        return norm(self)\n",
        "    def dot(self,other):\n",
        "        return vdot(self,other)\n",
        "\n",
        "phi0 = (exp(-(arange(N)-15000)**2/(2*300**2)-1.5j*arange(N)) + exp(-(arange(N)-5000)**2/(2*50**2)+1j*arange(N))).view(phi)\n",
        "phi0 /= phi0.norm()\n",
        "phir = randn(N).astype(complex).view(phi)\n",
        "phir /= phir.norm()"
      ]
    },
    {
      "cell_type": "code",
      "execution_count": null,
      "metadata": {
        "collapsed": true
      },
      "outputs": [],
      "source": [
        "Hq = Qobj(H)\n",
        "phi0q = Qobj(phi0)\n",
        "phirq = Qobj(phir)"
      ]
    },
    {
      "cell_type": "code",
      "execution_count": null,
      "metadata": {
        "collapsed": false
      },
      "outputs": [],
      "source": [
        "prop = lanczos_timeprop(H,phi0,12,1e-10)\n",
        "prop._step(0,.5)"
      ]
    },
    {
      "cell_type": "code",
      "execution_count": null,
      "metadata": {
        "collapsed": false
      },
      "outputs": [],
      "source": [
        "prop = lanczos_timeprop(H,phir,12,1e-10)\n",
        "prop._step(0,.5)"
      ]
    },
    {
      "cell_type": "code",
      "execution_count": null,
      "metadata": {
        "collapsed": false,
        "scrolled": false
      },
      "outputs": [],
      "source": [
        "from scipy.sparse.linalg import expm_multiply\n",
        "prop = lanczos_timeprop(H,phi0,12,1e-12)\n",
        "HT_done = prop._step(0.,0.5)\n",
        "print(HT_done)\n",
        "phi2 = expm_multiply(-1j*HT_done*H,phi0)\n",
        "np.allclose(prop.phia[0],phi2)"
      ]
    },
    {
      "cell_type": "code",
      "execution_count": null,
      "metadata": {
        "collapsed": false
      },
      "outputs": [],
      "source": [
        "%timeit lanczos_timeprop(H,phi0,12,1e-12)._step(0.,HT_done)\n",
        "prop = lanczos_timeprop(H,phi0,12,1e-12)\n",
        "%timeit prop._step(0.,HT_done)\n",
        "%timeit phi2 = expm_multiply(-1j*HT_done*H,phi0)\n",
        "%timeit sesolve(Hq,phi0q,[0,HT_done],[])"
      ]
    },
    {
      "cell_type": "code",
      "execution_count": null,
      "metadata": {
        "collapsed": false
      },
      "outputs": [],
      "source": [
        "ts = linspace(0,100,11)\n",
        "prop = lanczos_timeprop(H,phi0,12,1e-12)\n",
        "%time phiLs = prop.propagate(phi0,ts)\n",
        "%time resQ = sesolve(Hq,phi0q,ts,[],options=Options(atol=1e-8,rtol=1e-6))\n",
        "phiQs = array([s.full() for s in resQ.states]).squeeze()\n",
        "\n",
        "print(norm(phiLs), norm(phiQs-phiLs), norm(phiQs[-1]-phiLs[-1]))\n",
        "\n",
        "f,axs = subplots(1,2,figsize=(8,4),sharex=True,sharey=True)\n",
        "axs[0].pcolormesh(ts,arange(N),abs(phiQs.T)**2)\n",
        "axs[1].pcolormesh(ts,arange(N),abs(phiLs.T)**2)\n",
        "axs[0].autoscale(tight=True)\n",
        "#axs[0].set_ylim(4000,11000)\n",
        "f.tight_layout(pad=0.5)"
      ]
    },
    {
      "cell_type": "code",
      "execution_count": null,
      "metadata": {
        "collapsed": false
      },
      "outputs": [],
      "source": [
        "ts = linspace(0,100,11)\n",
        "prop = lanczos_timeprop(H,phir,12,1e-12)\n",
        "%time phiLs = prop.propagate(phir,ts)\n",
        "%time resQ = sesolve(Hq,phirq,ts,[],options=Options(atol=1e-8,rtol=1e-6))\n",
        "phiQs = array([s.full() for s in resQ.states]).squeeze()\n",
        "\n",
        "print(norm(phiLs), norm(phiQs-phiLs), norm(phiQs[-1]-phiLs[-1]))\n",
        "\n",
        "f,axs = subplots(1,2,figsize=(8,4),sharex=True,sharey=True)\n",
        "axs[0].pcolormesh(ts,arange(N),abs(phiQs.T)**2)\n",
        "axs[1].pcolormesh(ts,arange(N),abs(phiLs.T)**2)\n",
        "axs[0].autoscale(tight=True)\n",
        "#axs[0].set_ylim(4000,11000)\n",
        "f.tight_layout(pad=0.5)"
      ]
    },
    {
      "cell_type": "code",
      "execution_count": null,
      "metadata": {
        "collapsed": false
      },
      "outputs": [],
      "source": [
        "convgs = [1e-6,1e-8,1e-10,1e-12,1e-14,1e-16]\n",
        "qsolve = lambda tol: array([s.full() for s in sesolve(Hq,phirq,ts,[],options=Options(atol=tol,rtol=tol)).states]).squeeze()\n",
        "phiLs_convg, phiQs_convg = {}, {}\n",
        "for c in convgs:\n",
        "    if c>=1e-14:\n",
        "        print(c,end=' ')\n",
        "        tt = %timeit -qo -n1 -r1 phiLs_convg[c] = lanczos_timeprop(H,phir,12,c).propagate(phir,ts)\n",
        "        print(tt.best)\n",
        "    print(c,end=' ')\n",
        "    tt = %timeit -qo -n1 -r1 phiQs_convg[c] = qsolve(c)\n",
        "    print(tt.best)"
      ]
    },
    {
      "cell_type": "code",
      "execution_count": null,
      "metadata": {
        "collapsed": false
      },
      "outputs": [],
      "source": [
        "def err(a,b,ea,eb):\n",
        "    dd = dict(Q=phiQs_convg,L=phiLs_convg)\n",
        "    phia = dd[a][ea][-1]\n",
        "    phib = dd[b][eb][-1]\n",
        "    return 2*abs(phia-phib)/(abs(phia)+abs(phib))\n",
        "def ploterr(a,b,ea,eb):\n",
        "    relerr = err(a,b,ea,eb)\n",
        "    names = dict(Q='RK',L='SIL')\n",
        "    plot(relerr,label=\"%s %g vs %s %g\"%(names[a],ea,names[b],eb))\n",
        "ploterr('Q','Q',1e-16,1e-06)\n",
        "ploterr('L','L',1e-14,1e-06)\n",
        "ploterr('L','L',1e-14,1e-12)\n",
        "ploterr('Q','L',1e-16,1e-14)\n",
        "ploterr('L','L',1e-14,1e-10)\n",
        "ploterr('L','L',1e-14,1e-8)\n",
        "yscale('log')\n",
        "ylabel('rel. error')\n",
        "legend(frameon=True,fontsize=14);"
      ]
    },
    {
      "cell_type": "code",
      "execution_count": null,
      "metadata": {
        "collapsed": false
      },
      "outputs": [],
      "source": [
        "meanerrsLL = array([(e,mean(err('L','L',1e-14,e))) for e in [1e-6,1e-8,1e-10,1e-12]]).T\n",
        "meanerrsQL = array([(e,mean(err('Q','L',1e-16,e))) for e in [1e-6,1e-8,1e-10,1e-12,1e-14]]).T\n",
        "meanerrsLQ = array([(e,mean(err('L','Q',1e-14,e))) for e in [1e-6,1e-8,1e-10,1e-12,1e-14,1e-16]]).T\n",
        "meanerrsQQ = array([(e,mean(err('Q','Q',1e-16,e))) for e in [1e-6,1e-8,1e-10,1e-12,1e-14]]).T\n",
        "plot(meanerrsLL[0],meanerrsLL[1],'o-',label='LL')\n",
        "plot(meanerrsQQ[0],meanerrsQQ[1],'o-',label='QQ')\n",
        "plot(meanerrsQL[0],meanerrsQL[1],'o--',label='QL')\n",
        "plot(meanerrsLQ[0],meanerrsLQ[1],'o--',label='LQ')\n",
        "legend()\n",
        "yscale('log')\n",
        "xscale('log')"
      ]
    }
  ],
  "metadata": {
    "kernelspec": {
      "display_name": "Python 3",
      "language": "python",
      "name": "python3"
    },
    "language_info": {
      "codemirror_mode": {
        "name": "ipython",
        "version": 3
      },
      "file_extension": ".py",
      "mimetype": "text/x-python",
      "name": "python",
      "nbconvert_exporter": "python",
      "pygments_lexer": "ipython3",
      "version": "3.5.2"
    }
  },
  "nbformat": 4,
  "nbformat_minor": 1
}
